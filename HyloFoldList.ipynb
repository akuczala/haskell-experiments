{
 "cells": [
  {
   "cell_type": "code",
   "execution_count": 1,
   "metadata": {},
   "outputs": [],
   "source": [
    "import Control.Arrow\n",
    "\n",
    "type Algebra f a = f a -> a\n",
    "type Coalgebra f a = a -> f a\n",
    "\n",
    "newtype Fix f = Fix { unFix :: f (Fix f) }\n",
    "\n",
    "cata :: Functor f => Algebra f a -> Fix f -> a\n",
    "cata alg = alg . fmap(cata alg) . unFix\n",
    "\n",
    "ana :: Functor f => Coalgebra f a -> a -> Fix f\n",
    "ana coalg = Fix . fmap (ana coalg) . coalg\n",
    "\n",
    "-- we can abandon ana and cata by composing them to yield hylo\n",
    "hyloInefficient :: Functor f => Algebra f a -> Coalgebra f b -> b -> a\n",
    "hyloInefficient alg coalg = ana coalg >>> cata alg\n",
    "\n",
    "hylo :: Functor f => Algebra f a -> Coalgebra f b -> b -> a\n",
    "hylo f g = f . fmap (hylo f g) . g"
   ]
  },
  {
   "cell_type": "code",
   "execution_count": 2,
   "metadata": {},
   "outputs": [],
   "source": [
    "{-# LANGUAGE DeriveFunctor #-}\n",
    "\n",
    "--List functor carrying type t\n",
    "data ListF t a = Cons t a | Empty\n",
    "    deriving (Functor,Show)\n",
    "\n",
    "--recursive list type\n",
    "data ListR t = ConsR t (ListR t) | EmptyR\n",
    "    deriving (Functor,Show)"
   ]
  },
  {
   "cell_type": "code",
   "execution_count": 3,
   "metadata": {},
   "outputs": [
    {
     "data": {
      "text/plain": [
       "[1,2,3]"
      ]
     },
     "metadata": {},
     "output_type": "display_data"
    }
   ],
   "source": [
    "toList :: Algebra (ListF t) [t]\n",
    "toList Empty = []\n",
    "toList (Cons x y) = x : y\n",
    "\n",
    "fromList :: Coalgebra (ListF t) [t]\n",
    "fromList [] = Empty\n",
    "fromList (x : y) = Cons x y\n",
    "\n",
    "hylo toList fromList [1,2,3]"
   ]
  },
  {
   "cell_type": "code",
   "execution_count": 4,
   "metadata": {},
   "outputs": [
    {
     "data": {
      "text/plain": [
       "ConsR 1 (ConsR 2 (ConsR 3 EmptyR))"
      ]
     },
     "metadata": {},
     "output_type": "display_data"
    }
   ],
   "source": [
    "toListR :: Algebra (ListF t) (ListR t)\n",
    "toListR Empty = EmptyR\n",
    "toListR (Cons x y) = ConsR x y\n",
    "\n",
    "fromListR :: Coalgebra (ListF t) (ListR t)\n",
    "fromListR EmptyR = Empty\n",
    "fromListR (ConsR x y) = Cons x y\n",
    "\n",
    "hylo toListR fromList [1,2,3]"
   ]
  },
  {
   "cell_type": "code",
   "execution_count": 5,
   "metadata": {},
   "outputs": [
    {
     "data": {
      "text/plain": [
       "6"
      ]
     },
     "metadata": {},
     "output_type": "display_data"
    }
   ],
   "source": [
    "sumAlg :: Algebra (ListF Int) Int\n",
    "sumAlg Empty = 0\n",
    "sumAlg (Cons x y) = x + y\n",
    "\n",
    "hylo sumAlg fromList [1,2,3]"
   ]
  },
  {
   "cell_type": "code",
   "execution_count": 6,
   "metadata": {},
   "outputs": [
    {
     "data": {
      "text/plain": [
       "[5,4,3,2,1]"
      ]
     },
     "metadata": {},
     "output_type": "display_data"
    }
   ],
   "source": [
    "unfoldDescend :: Coalgebra (ListF Int) Int\n",
    "unfoldDescend n\n",
    "    | n == 0 = Empty\n",
    "    | otherwise = Cons n (n-1)\n",
    "    \n",
    "hylo toList unfoldDescend 5"
   ]
  },
  {
   "cell_type": "code",
   "execution_count": 7,
   "metadata": {},
   "outputs": [
    {
     "data": {
      "text/plain": [
       "\"Cons 1 (a . (Cons 2 (a . (Cons 3 (a . (Empty)))\""
      ]
     },
     "metadata": {},
     "output_type": "display_data"
    }
   ],
   "source": [
    "write :: Algebra (ListF Int) String\n",
    "write Empty = \"Empty\"\n",
    "write (Cons n s) = \"Cons \" ++ show n ++ \" (a . (\" ++ s ++ \")\"\n",
    "\n",
    "hylo write fromList [1,2,3]"
   ]
  },
  {
   "cell_type": "code",
   "execution_count": 8,
   "metadata": {},
   "outputs": [
    {
     "data": {
      "text/plain": [
       "7"
      ]
     },
     "metadata": {},
     "output_type": "display_data"
    }
   ],
   "source": [
    "foldAlg :: (t -> t -> t) -> t -> Algebra (ListF t) t\n",
    "foldAlg f x0 Empty = x0\n",
    "foldAlg f x0 (Cons y z) = f y z\n",
    "\n",
    "foldList :: (t -> t -> t) -> t -> [t] -> t\n",
    "foldList f x0 = hylo (foldAlg f x0) fromList\n",
    "\n",
    "foldList (+) 1 [1,2,3]"
   ]
  },
  {
   "cell_type": "code",
   "execution_count": 9,
   "metadata": {},
   "outputs": [
    {
     "data": {
      "text/plain": [
       "10"
      ]
     },
     "metadata": {},
     "output_type": "display_data"
    }
   ],
   "source": [
    "foldAlgCPS :: (b -> a -> b) -> Algebra (ListF a) (b -> b)\n",
    "foldAlgCPS f Empty = id\n",
    "foldAlgCPS f (Cons n g) = \\m -> g $ f m n\n",
    "\n",
    "hylo (foldAlgCPS (+)) fromList [1,2,3] 4"
   ]
  }
 ],
 "metadata": {
  "kernelspec": {
   "display_name": "Haskell",
   "language": "haskell",
   "name": "haskell"
  },
  "language_info": {
   "codemirror_mode": "ihaskell",
   "file_extension": ".hs",
   "name": "haskell",
   "pygments_lexer": "Haskell",
   "version": "8.6.5"
  },
  "latex_envs": {
   "LaTeX_envs_menu_present": true,
   "autoclose": false,
   "autocomplete": true,
   "bibliofile": "biblio.bib",
   "cite_by": "apalike",
   "current_citInitial": 1,
   "eqLabelWithNumbers": true,
   "eqNumInitial": 1,
   "hotkeys": {
    "equation": "Ctrl-E",
    "itemize": "Ctrl-I"
   },
   "labels_anchors": false,
   "latex_user_defs": false,
   "report_style_numbering": false,
   "user_envs_cfg": false
  },
  "toc": {
   "base_numbering": 1,
   "nav_menu": {},
   "number_sections": true,
   "sideBar": true,
   "skip_h1_title": false,
   "title_cell": "Table of Contents",
   "title_sidebar": "Contents",
   "toc_cell": false,
   "toc_position": {},
   "toc_section_display": true,
   "toc_window_display": false
  },
  "varInspector": {
   "cols": {
    "lenName": 16,
    "lenType": 16,
    "lenVar": 40
   },
   "kernels_config": {
    "python": {
     "delete_cmd_postfix": "",
     "delete_cmd_prefix": "del ",
     "library": "var_list.py",
     "varRefreshCmd": "print(var_dic_list())"
    },
    "r": {
     "delete_cmd_postfix": ") ",
     "delete_cmd_prefix": "rm(",
     "library": "var_list.r",
     "varRefreshCmd": "cat(var_dic_list()) "
    }
   },
   "types_to_exclude": [
    "module",
    "function",
    "builtin_function_or_method",
    "instance",
    "_Feature"
   ],
   "window_display": false
  }
 },
 "nbformat": 4,
 "nbformat_minor": 4
}
